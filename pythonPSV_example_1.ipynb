{
 "cells": [
  {
   "cell_type": "markdown",
   "metadata": {},
   "source": [
    "# Calculation Template\n",
    "## Client: INTERNAL\n",
    "---\n",
    "## Project: Python PSV tool example in Jupyter\n",
    "## Calc: 2020-CALC-PSV-001\n",
    "## By: K. Dorma\n",
    "## Date: December, 2020\n",
    "---\n",
    "## Authentication\n",
    "> Stamp, Permit\n",
    "---\n",
    "## Revision History\n",
    "|Revision | Date | Description | By | Reviewer|\n",
    "| :-------| :----|:------------|:---|:--------|\n",
    "|    1.0  | Dec. 2020 | Demo code | KCD |  |\n",
    "|    2.0  | feb 13 2020   | Python    | KCD     |    |\n",
    "\n",
    "---"
   ]
  },
  {
   "cell_type": "markdown",
   "metadata": {},
   "source": [
    "<!-- ABOUT THE PROJECT -->\n",
    "\n",
    "## About The Project\n",
    "\n",
    "This project provides functions in Python for standard calculations for Pressure Safety Valve (PSV) flow rate and sizing. The intention is to use the routines in a Jupyter Notebook file for documenting engineering work.  \n",
    "\n",
    "The calculations should be adequate for engineering consulting work and preliminary sizing or rating. Definative sizing or rating calculations should be performed with methodologies or rating factors provided by the PSV manufacturer.\n",
    "\n",
    "\n",
    "### Built With\n",
    "\n",
    "The code is written in Python and is intended to be used in a Jupyter Notebook. The code has been tested in a stand-alone Python environment.\n",
    "\n",
    "\n",
    "<!-- GETTING STARTED -->\n",
    "## Getting Started\n",
    "\n",
    "The following lines of code are needed in to import the package.\n",
    "\n",
    "For Jupyter\n",
    "~~~~\n",
    "Pkg.add(PackageSpec(url=\"https://github.com/kevindorma/PSVrelief\"))\n",
    "using PSVrelief\n",
    "~~~~\n",
    "\n",
    "For stand-alone python\n",
    "\n",
    "\n",
    "### Prerequisites\n",
    "\n",
    "The package requires the following packages (which are defined as dependancies)\n",
    "* DataFrames\n",
    "* GridInterpolations (this is for the tabulated steam superheat factor)\n",
    "\n",
    "\n",
    "\n",
    "<!-- USAGE EXAMPLES -->\n",
    "## Usage\n",
    "\n",
    "Refer to the Jupyter Notebook file for an example of how the code is used.\n",
    "\n",
    "_For more examples, please refer to the [Documentation](https://example.com)_\n",
    "\n",
    "Functions are provided for rating and sizing of Steam, Vapour and Liquid PSVs. Units of measure used in the package are:\n",
    "* Flow rate, kg/h\n",
    "* PSV flow area, mm2\n",
    "* Pressure, kPaa\n",
    "* Temperature, deg C\n",
    "\n",
    "Functions \n",
    "* PSVsteamRate(areaMM2, Pkpa, State)\n",
    "    * areaMM2 is the API flow area in mm2\n",
    "    * State is either a temperature in deg C (superheated steam) or a string (\"Sat\", saturated steam).\n",
    "    * return value is kg/h\n",
    "* PSVsteamSize(Wkg, Pkpa, State)\n",
    "    * Wkg is mass flow rate in kg/h\n",
    "    * State is either a temperature in deg C (superheated steam) or a string (\"Sat\", saturated steam).\n",
    "    * return value is orifice area mm2\n",
    "* PSVsteamFlux(Pkpa, State)\n",
    "    * this is the main function for steam PSV calculations\n",
    "    * the return value is mass flux in kg/hr.mm2\n",
    "    * this is used to calculate either the area (given the flow rate) or the flow rate (given the area)\n",
    "    $$\n",
    "    K_d = 0.975 \\\\\n",
    "K_{sh} = \\mbox{Superheat derating (lookup table)} \\\\\n",
    "    K_b = 1.0 \\, \\mbox{(no backpressure derating)} \\\\\n",
    "    K_n = \\frac{2.7644 \\times Pkpa/100.0 - 1000.0}{3.3242 \\times Pkpa/100.0 - 1061.0}, P > 10300 \\mbox{kPa} \\\\\n",
    "    Ppsi = Pkpa \\times (14.503773800721813/100) \\\\\n",
    "    flux_{kg/hr.mm^2} = 51.45 \\times K_d \\times Ppsi \\times K_{sh} \\times K_b \\times K_n / (2.205 \\times 25.4^2)\n",
    "    $$ \n",
    "* PSVvaporRate(areaMM2, P, Tcelcius, MW, k, Z)\n",
    "    * given the API orifice area, pressure (kPaa), temperature (deg C), mole weight, ratio of specific heats or isentropic coefficient, and compressibility factor\n",
    "    * return value is the flow rate in kg/h\n",
    "* PSVvaporSize(W, P, Tcelcius, MW, k, Z)\n",
    "    * given the flow rate in kg/h, and the other standard inputs\n",
    "    * return value is the PSV flow area in mm2\n",
    "* PSVvaporFlux(P, Tcelcius, MW, k, Z)\n",
    "    * this is the main function for vapour PSV calculations\n",
    "    * the return value is mass flux in kg/hr.mm2\n",
    "    * this is used to calculate either the area (given the flow rate) or the flow rate (given the area)\n",
    "$$\n",
    "    Kd = 0.975 \\, \\mbox{discharge coefficient, can vary with mfg} \\\\\n",
    "    Kb = 1.0 \\, \\mbox{do not consider backpressure derating} \\\\\n",
    "    Kc = 1.0 \\, \\mbox{no derating for rupture disc} \\\\\n",
    "    C = 0.03948 \\sqrt{  k \\left(\\frac{2.0}{k+1}\\right)^{(k+1)/(k-1)}    }   \\, \\mbox{API 520A fig 32} \\\\\n",
    "    flux_{kg/hr.mm2} = \\frac{C * Kd * P * Kb * Kc}{\\sqrt{T_{kelvin} \\times Z/MW}}\n",
    "$$\n",
    "* PSVliquidRate(areaMM2, P, Pback, d, mu)\n",
    "    * given the API orifice area in mm2, inlet pressure kPag, backpressure kPag, density in kg/m3 and viscosity in mPa.s (cP)\n",
    "    * the return value is the liquid flow rate in kg/h\n",
    "    $$\n",
    "    Kd = 0.65 \\\\\n",
    "    Kw = 1.0 \\\\\n",
    "    Kc = 1.0 \\\\\n",
    "        Q = A_{mm2} \\frac{Kd Kw Kc Kv}{11.78} \\sqrt{\\Delta P/(\\rho/1000)} \\, \\mbox{litres per minute} \\\\\n",
    "        \\mbox{where} \\\\\n",
    "        R = \\frac{Q * 18800 * \\rho/1000}{\\mu*\\sqrt{A_{mm2}}} \\, \\\\\n",
    "        Kv = 1.0 / (0.9935 + 2.878/\\sqrt{R} + 342.75/(R^{1.5})) \\\\\n",
    "    flowrate = Q*60*\\rho/1000.0 \\,  \\mbox{mass flow rate kg/h}\n",
    "    $$\n",
    "* PSVliquidSize(W, P, Pback, d, mu)\n",
    "    * given the liquid relief rate in kg/h\n",
    "    * return value is the PSV flow area in mm2\n",
    "    $$\n",
    "    Q = 1000.0*W/(\\rho*60.0) \\, \\mbox{l/min} \\\\\n",
    "    Kd = 0.65  \\\\\n",
    "    Kw = 1.0 \\\\\n",
    "    Kc = 1.0 \\\\\n",
    "        A_{mm2} = 11.78 \\frac{Q}{Kd * Kw * Kc * Kv} * \\sqrt{(\\rho/1000)/\\Delta P} \\\\\n",
    "        \\mbox{where} \\\\\n",
    "        R = \\frac{Q * 18800 * \\rho/1000}{\\mu*\\sqrt{A_{mm2}}} \\, \\\\\n",
    "        Kv = 1.0 / (0.9935 + 2.878/\\sqrt{R} + 342.75/(R^{1.5})) \n",
    "    $$\n",
    "\n",
    "Utility functions\n",
    "* getKsh(PkPa, State)\n",
    "    * this provides the superheat correction factor for the Napier steam formula\n",
    "    * P: 140 - 20,600 kPa; T: saturated to 565 C\n",
    "    * the pressure is in kPaa, and State is either a number (temperature in deg C) or a string (ie \"Sat\")\n",
    "    * a simple lookup table is used to find the superheat value\n",
    "* PSVareaOrifice(letter)\n",
    "    * given the API orifice letter designation (D, E, F...)\n",
    "    * return the API flow area in mm2\n",
    "* PSVfindOrifice(area)\n",
    "    * given the required API flow rate (from a sizing calculation)\n",
    "    * return the letter designation for the next larger orifice size\n",
    "* waterPsat(T_c)\n",
    "    * given the temperature in deg C\n",
    "    * return the saturation pressure of water in kPaa\n",
    "    * this uses a hand correlated function of the form ln P_Pa = A + B/Tk + C*Tk + D*ln(Tk)\n",
    "    * The data was fit in the pressure range 100 - 20,000 kPaa\n",
    "    * a better approach would be to use IFC97 steam tables (future work)\n",
    "* waterTsat(P_kPa)\n",
    "    * given the pressure in kPaa\n",
    "    * return the saturation temperature of water in deg C\n",
    "    * this uses a hand correlated function of the form 1/T = A + B*ln P + C/ln P\n",
    "    * The data was fit in the pressure range 100 - 20,000 kPaa\n",
    "    * a better approach would be to use IFC97 steam tables (future work)\n",
    "* thermExpansionRate(heat, alpha, heatCap)\n",
    "    * calculate the relief flow rate for thermal expansion of a liquid\n",
    "    * heat is the applied heat in kJ/s\n",
    "    * alpha is the cubic thermal expansion coefficient, 1/K\n",
    "    * heatCap is the heat capacity at constant pressure, kJ/kg.K\n",
    "    * the return value is the mass flow rate in kg/h\n",
    "    $$\n",
    "    m = \\frac{3600 * \\alpha * q}{C_p} \\, \\mbox{kg/h}\n",
    "    $$\n",
    "* poolFireReliefRate(wettedAreaM2,latent,prompt)\n",
    "    * this calculates the relief flow rate for a liquid vapourized in a fire scenario\n",
    "    * wetted area refers to the wet surface area in the vessel, in m2\n",
    "    * latent is the latent heat in kJ/kg\n",
    "    * prompt is a string to denote fire response time: \"prompt\" or anything else\n",
    "$$    \n",
    "F = 1.0 \\, \\mbox{no environmental credits} \\\\\n",
    "    flowRate = \\frac{C1 * F * A_{w,m2}^{0.82}}{1000 \\Delta H} * 3600 \\, \\mbox{kg/h} \\\\\n",
    "    \\mbox{where} \\\\\n",
    "        C1 = 70900 \\, \\mbox{if prompt fire fighting DOES NOT exist} \\\\\n",
    "        C1 = 43200 \\, \\mbox{if prompt fire fighting exists} \n",
    "    $$\n",
    "* liquidVaporizeReliefRate(heat,latent)\n",
    "    * this calculates the relief rate for vapourizing a liquid with a specified heat source\n",
    "    * heat supply is in kJ/s\n",
    "    $$\n",
    "    m = \\frac{q}{\\Delta H} * 3600 \\, \\mbox{kg/h}\n",
    "    $$\n",
    "\n",
    "Refer to the Jupyter notebook file PSVreliefExample.ipynb for working examples.\n",
    "\n",
    "<!-- ROADMAP -->\n",
    "## Roadmap\n",
    "\n",
    "\n",
    "* implement IAPWS IFC97 steam tables (ie Xsteam)\n",
    "* implement Homogeneous Equilibrium Method (HEM) for steam. This permits relief calculations for two phase water-steam mixtures.\n",
    "* provide ability to over-ride the standard PSV constants, such as discharge coefficient.\n",
    "* implement backpressure correction for standard and balanced bellows PSV.\n",
    "\n",
    "\n",
    "\n",
    "<!-- CONTRIBUTING -->\n",
    "## Contributing\n",
    "\n",
    "Send me a note.\n",
    "\n",
    "\n",
    "\n",
    "<!-- LICENSE -->\n",
    "## License\n",
    "\n",
    "Distributed under the MIT License. See `LICENSE` for more information.\n",
    "\n",
    "\n",
    "\n",
    "<!-- CONTACT -->\n",
    "## Contact\n",
    "\n",
    "Kevin Dorma - [@KevinDorma](https://twitter.com/KevinDorma) - kevin@kevindorma.ca\n",
    "\n",
    "Project Link: [https://github.com/kevindorma/pypsv](https://github.com/kevindorma/pypsv)\n",
    "\n",
    "\n",
    "\n",
    "<!-- ACKNOWLEDGEMENTS -->\n",
    "## Acknowledgements\n",
    "\n",
    "Not sure who to acknowledge."
   ]
  },
  {
   "cell_type": "code",
   "execution_count": 1,
   "metadata": {},
   "outputs": [
    {
     "name": "stdout",
     "output_type": "stream",
     "text": [
      "Requirement already satisfied: psvpy in /Applications/anaconda3/lib/python3.7/site-packages (0.5)\n",
      "Collecting psvpy\n",
      "  Downloading psvpy-1.0.tar.gz (1.0 kB)\n",
      "Requirement already satisfied: numpy in /Applications/anaconda3/lib/python3.7/site-packages (from psvpy) (1.17.2)\n",
      "Requirement already satisfied: pandas in /Applications/anaconda3/lib/python3.7/site-packages (from psvpy) (0.25.1)\n",
      "Requirement already satisfied: scipy in /Applications/anaconda3/lib/python3.7/site-packages (from psvpy) (1.3.1)\n",
      "Requirement already satisfied: pytz>=2017.2 in /Applications/anaconda3/lib/python3.7/site-packages (from pandas->psvpy) (2019.3)\n",
      "Requirement already satisfied: python-dateutil>=2.6.1 in /Applications/anaconda3/lib/python3.7/site-packages (from pandas->psvpy) (2.8.0)\n",
      "Requirement already satisfied: six>=1.5 in /Applications/anaconda3/lib/python3.7/site-packages (from python-dateutil>=2.6.1->pandas->psvpy) (1.12.0)\n",
      "Building wheels for collected packages: psvpy\n",
      "  Building wheel for psvpy (setup.py) ... \u001b[?25ldone\n",
      "\u001b[?25h  Created wheel for psvpy: filename=psvpy-1.0-py3-none-any.whl size=1086 sha256=63202baa5d951e2e5e4b8e785d678bacc2de8755eaa4ae6624fe8c91e0c51963\n",
      "  Stored in directory: /Users/kevin/Library/Caches/pip/wheels/ef/6b/2b/2a5e9e3d23aab8c0254a0cfd3c00503f632b01846652b65178\n",
      "Successfully built psvpy\n",
      "Installing collected packages: psvpy\n",
      "  Attempting uninstall: psvpy\n",
      "    Found existing installation: psvpy 0.5\n",
      "    Uninstalling psvpy-0.5:\n",
      "      Successfully uninstalled psvpy-0.5\n",
      "Successfully installed psvpy-1.0\n"
     ]
    }
   ],
   "source": [
    "# to install the package in the python environment\n",
    "import sys\n",
    "!{sys.executable} -m pip install --upgrade psvpy\n",
    "\n",
    "# to import the package into this code\n",
    "import psvpy.psvpy as psvpy\n",
    "import pandas as pd"
   ]
  },
  {
   "cell_type": "code",
   "execution_count": 2,
   "metadata": {},
   "outputs": [
    {
     "data": {
      "text/plain": [
       "101.40937339808711"
      ]
     },
     "execution_count": 2,
     "metadata": {},
     "output_type": "execute_result"
    }
   ],
   "source": [
    "# test the water saturation function\n",
    "psvpy.waterPsat(100.0)\n"
   ]
  },
  {
   "cell_type": "markdown",
   "metadata": {},
   "source": [
    "## Example 1. Sizing Steam PSV\n",
    "\n",
    "Size a steam PSV for the following conditions:\n",
    "* mass flow rate 50,000 kg/h\n",
    "* Set pressure 5000 kPag. Atmospheric pressure is 101 kPaa.\n",
    "* Steam is saturated."
   ]
  },
  {
   "cell_type": "code",
   "execution_count": 3,
   "metadata": {},
   "outputs": [
    {
     "data": {
      "text/plain": [
       "['Saturation Temperature, C', 265.09046724804114]"
      ]
     },
     "execution_count": 3,
     "metadata": {},
     "output_type": "execute_result"
    }
   ],
   "source": [
    "# inputs\n",
    "\n",
    "mdot = 50000.0;     # mass flow kg/h\n",
    "atmP = 101.0;       # kPaa\n",
    "setP = 5000.0;      # kPag\n",
    "reliefP = setP + atmP; # relief pressure kPaa\n",
    "satT = psvpy.waterTsat(reliefP) # saturate temperature in C, just in case we are interested\n",
    "[\"Saturation Temperature, C\", satT]"
   ]
  },
  {
   "cell_type": "code",
   "execution_count": 4,
   "metadata": {},
   "outputs": [
    {
     "data": {
      "text/plain": [
       "[['Required relief rate, kg/h', 50000.0],\n",
       " ['Required area, mm2', 1916.547975624172],\n",
       " ['PSV orifice', 'M'],\n",
       " ['Actual area, mm2', 2322.576],\n",
       " ['Actual relief rate, kg/h', 60592.69137897773]]"
      ]
     },
     "execution_count": 4,
     "metadata": {},
     "output_type": "execute_result"
    }
   ],
   "source": [
    "reqdSteamArea = psvpy.PSVsteamSize(mdot, reliefP, \"Saturated\")\n",
    "designationSteamPSV = psvpy.PSVdesignationOrifice(reqdSteamArea)\n",
    "actualArea = psvpy.PSVareaOrifice(designationSteamPSV)\n",
    "actualSteamReliefRate = psvpy.PSVsteamRate(actualArea, reliefP, \"Saturated\");\n",
    "[[\"Required relief rate, kg/h\", mdot],\n",
    "[\"Required area, mm2\", reqdSteamArea],\n",
    "[\"PSV orifice\", designationSteamPSV],\n",
    "[\"Actual area, mm2\", actualArea],\n",
    "[\"Actual relief rate, kg/h\", actualSteamReliefRate]]"
   ]
  },
  {
   "cell_type": "markdown",
   "metadata": {},
   "source": [
    "## Example 2. Superheated Steam\n",
    "\n",
    "Revise the calculation for superheated steam at 450 C."
   ]
  },
  {
   "cell_type": "code",
   "execution_count": 5,
   "metadata": {},
   "outputs": [
    {
     "data": {
      "text/plain": [
       "[['Required relief rate, kg/h', 50000.0],\n",
       " ['Required area, mm2', 2359.5975232177025],\n",
       " ['PSV orifice', 'N'],\n",
       " ['Actual area, mm2', 2799.994],\n",
       " ['Actual relief rate, kg/h', 59332.02532315224]]"
      ]
     },
     "execution_count": 5,
     "metadata": {},
     "output_type": "execute_result"
    }
   ],
   "source": [
    "TempC = 450.0\n",
    "reqdSteamArea = psvpy.PSVsteamSize(mdot, reliefP, TempC)\n",
    "designationSteamPSV = psvpy.PSVdesignationOrifice(reqdSteamArea)\n",
    "actualArea = psvpy.PSVareaOrifice(designationSteamPSV)\n",
    "actualSteamReliefRate = psvpy.PSVsteamRate(actualArea, reliefP, TempC);\n",
    "[[\"Required relief rate, kg/h\", mdot],\n",
    "[\"Required area, mm2\", reqdSteamArea],\n",
    "[\"PSV orifice\", designationSteamPSV],\n",
    "[\"Actual area, mm2\", actualArea],\n",
    "[\"Actual relief rate, kg/h\", actualSteamReliefRate]]"
   ]
  },
  {
   "cell_type": "code",
   "execution_count": 7,
   "metadata": {},
   "outputs": [],
   "source": [
    "# code for testing our package\n",
    "# to install the package in the python environment\n",
    "#import sys\n",
    "#!{sys.executable} -m pip install --upgrade psvpy\n",
    "\n",
    "# to import the package into this code\n",
    "import psvpy.test as test\n"
   ]
  },
  {
   "cell_type": "code",
   "execution_count": 8,
   "metadata": {},
   "outputs": [
    {
     "data": {
      "text/plain": [
       "<module 'psvpy.test' from '/Applications/anaconda3/lib/python3.7/site-packages/psvpy/test.py'>"
      ]
     },
     "execution_count": 8,
     "metadata": {},
     "output_type": "execute_result"
    }
   ],
   "source": [
    "test"
   ]
  },
  {
   "cell_type": "code",
   "execution_count": null,
   "metadata": {},
   "outputs": [],
   "source": []
  }
 ],
 "metadata": {
  "kernelspec": {
   "display_name": "Python 3",
   "language": "python",
   "name": "python3"
  },
  "language_info": {
   "codemirror_mode": {
    "name": "ipython",
    "version": 3
   },
   "file_extension": ".py",
   "mimetype": "text/x-python",
   "name": "python",
   "nbconvert_exporter": "python",
   "pygments_lexer": "ipython3",
   "version": "3.7.4"
  }
 },
 "nbformat": 4,
 "nbformat_minor": 2
}
